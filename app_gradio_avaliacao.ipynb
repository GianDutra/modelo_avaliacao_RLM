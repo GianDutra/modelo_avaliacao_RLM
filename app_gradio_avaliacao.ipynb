{
 "cells": [
  {
   "cell_type": "markdown",
   "metadata": {},
   "source": [
    "## Entregar Modelo como Gradio App\n"
   ]
  },
  {
   "cell_type": "markdown",
   "metadata": {},
   "source": [
    "### Construindo um App no Gradio\n"
   ]
  },
  {
   "cell_type": "markdown",
   "metadata": {},
   "source": [
    "Foi criada uma interface visual simples para interação com o modelo usando o Gradio. O modelo salvo anteriormente foi carregado com o JobLib. Em seguida, foi definida uma função chamada Predictive, que recebe os parâmetros de entrada e realiza a predição com base nesses dados. A interface visual foi criada utilizando o Gradio, onde os campos de entrada e saída foram configurados para facilitar a interação do usuário com o modelo.\n"
   ]
  },
  {
   "cell_type": "code",
   "execution_count": 1,
   "metadata": {},
   "outputs": [
    {
     "name": "stderr",
     "output_type": "stream",
     "text": [
      "c:\\Users\\USER\\.virtualenvs\\Pontuacao_avaliacao-B4mLD4Zc\\Lib\\site-packages\\tqdm\\auto.py:21: TqdmWarning: IProgress not found. Please update jupyter and ipywidgets. See https://ipywidgets.readthedocs.io/en/stable/user_install.html\n",
      "  from .autonotebook import tqdm as notebook_tqdm\n"
     ]
    }
   ],
   "source": [
    "\"\"\"importar módulos\"\"\"\n",
    "import gradio as gr\n",
    "import joblib\n",
    "import pandas as pd"
   ]
  },
  {
   "cell_type": "code",
   "execution_count": 2,
   "metadata": {},
   "outputs": [
    {
     "name": "stdout",
     "output_type": "stream",
     "text": [
      "Modelo carregado com sucesso!\n"
     ]
    }
   ],
   "source": [
    "# carregar modelo (arquivo .plk)\n",
    "try:\n",
    "    lr_multiple_model = joblib.load(\"./modelo_avaliacao.plk\")\n",
    "    print(\"Modelo carregado com sucesso!\")\n",
    "except Exception as e:\n",
    "    print(\"Erro ao carregar o modelo:\", e)\n"
   ]
  },
  {
   "cell_type": "code",
   "execution_count": 3,
   "metadata": {},
   "outputs": [],
   "source": [
    "def predict(horas_estudadas, pontuacao_anterior, atividades_extracurriculares, horas_sono, simulados_resolvidos):\n",
    "    _atividades_extracurriculares = \"Sim\" if atividades_extracurriculares == \"Sim\" else \"Não\"\n",
    "    prediction_values = {\n",
    "        \"horas_estudadas\": horas_estudadas,\n",
    "        \"pontuacao_anterior\": pontuacao_anterior,\n",
    "        \"atividades_extracurriculares\": _atividades_extracurriculares,\n",
    "        \"horas_sono\": horas_sono,\n",
    "        \"simulados_resolvidos\": simulados_resolvidos,\n",
    "    }\n",
    "\n",
    "    print(\"Valores de entrada:\", prediction_values)  # Verificando os dados recebidos\n",
    "\n",
    "    predict_df = pd.DataFrame(prediction_values, index=[1])\n",
    "    print(\"DataFrame para predição:\", predict_df)  # Verificando o DataFrame gerado\n",
    "\n",
    "    avaliacao = lr_multiple_model.predict(predict_df)\n",
    "    print(\"Resultado da predição:\", avaliacao)  # Verificando o resultado da predição\n",
    "\n",
    "    # return avaliacao.reshape(-1)\n",
    "    return avaliacao[0]\n"
   ]
  },
  {
   "cell_type": "code",
   "execution_count": 4,
   "metadata": {},
   "outputs": [],
   "source": [
    "demo = gr.Interface(\n",
    "    fn=predict,\n",
    "    inputs=[  \n",
    "      gr.Slider(1, 15, step=1, value=6),\n",
    "      gr.Slider(0, 100, step=0.1, value=50),\n",
    "      gr.Radio([\"Sim\", \"Não\"], value=\"Não\"),\n",
    "      gr.Slider(1, 10, step=1, value=6),\n",
    "      gr.Slider(1, 10, step=1, value=45), \n",
    "\n",
    "    ],\n",
    "    outputs=['number']\n",
    ")"
   ]
  },
  {
   "cell_type": "markdown",
   "metadata": {},
   "source": [
    "### Testando nosso App no Gradio\n"
   ]
  },
  {
   "cell_type": "markdown",
   "metadata": {},
   "source": [
    "Nesta aula, exploramos como fazer a conversão de uma variável booleana para uma variável de texto antes de enviá-la para o modelo. Foi explicado que o modelo espera receber \"sim\" ou \"não\" em vez de \"true\" ou \"false\". Para fazer essa conversão, criamos uma nova variável que assume o valor \"sim\" se a variável booleana for verdadeira e \"não\" caso contrário. Em seguida, executamos novamente a demonstração com a nova variável convertida. Também aprendemos como interagir com o modelo usando uma interface visual, que pode ser acessada localmente ou por meio de um link gerado pelo Gradle.\n"
   ]
  },
  {
   "cell_type": "code",
   "execution_count": 8,
   "metadata": {},
   "outputs": [
    {
     "name": "stdout",
     "output_type": "stream",
     "text": [
      "Rerunning server... use `close()` to stop if you need to change `launch()` parameters.\n",
      "----\n",
      "* Running on public URL: https://270bdf7e7892c6e92c.gradio.live\n",
      "\n",
      "This share link expires in 72 hours. For free permanent hosting and GPU upgrades, run `gradio deploy` from the terminal in the working directory to deploy to Hugging Face Spaces (https://huggingface.co/spaces)\n"
     ]
    },
    {
     "data": {
      "text/html": [
       "<div><iframe src=\"https://270bdf7e7892c6e92c.gradio.live\" width=\"100%\" height=\"500\" allow=\"autoplay; camera; microphone; clipboard-read; clipboard-write;\" frameborder=\"0\" allowfullscreen></iframe></div>"
      ],
      "text/plain": [
       "<IPython.core.display.HTML object>"
      ]
     },
     "metadata": {},
     "output_type": "display_data"
    },
    {
     "data": {
      "text/plain": []
     },
     "execution_count": 8,
     "metadata": {},
     "output_type": "execute_result"
    },
    {
     "name": "stdout",
     "output_type": "stream",
     "text": [
      "Valores de entrada: {'horas_estudadas': 6, 'pontuacao_anterior': 50, 'atividades_extracurriculares': 'Não', 'horas_sono': 6, 'simulados_resolvidos': 45}\n",
      "DataFrame para predição:    horas_estudadas  pontuacao_anterior atividades_extracurriculares  \\\n",
      "1                6                  50                          Não   \n",
      "\n",
      "   horas_sono  simulados_resolvidos  \n",
      "1           6                    45  \n",
      "Resultado da predição: [46.24325448]\n"
     ]
    }
   ],
   "source": [
    "# rodar interface do modelo de predição no localhost\n",
    "demo.launch(share=True)"
   ]
  },
  {
   "cell_type": "code",
   "execution_count": 6,
   "metadata": {},
   "outputs": [],
   "source": [
    "# finalizar interface - fechar a porta do localhost\n",
    "# demo.close()"
   ]
  }
 ],
 "metadata": {
  "kernelspec": {
   "display_name": "Pontuacao_avaliacao-B4mLD4Zc",
   "language": "python",
   "name": "python3"
  },
  "language_info": {
   "codemirror_mode": {
    "name": "ipython",
    "version": 3
   },
   "file_extension": ".py",
   "mimetype": "text/x-python",
   "name": "python",
   "nbconvert_exporter": "python",
   "pygments_lexer": "ipython3",
   "version": "3.13.0"
  }
 },
 "nbformat": 4,
 "nbformat_minor": 2
}
